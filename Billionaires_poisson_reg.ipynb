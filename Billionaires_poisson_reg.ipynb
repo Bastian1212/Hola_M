{
  "nbformat": 4,
  "nbformat_minor": 0,
  "metadata": {
    "colab": {
      "name": "Billionaires_poisson_reg.ipynb",
      "provenance": [],
      "collapsed_sections": [],
      "include_colab_link": true
    },
    "kernelspec": {
      "name": "python3",
      "display_name": "Python 3"
    },
    "language_info": {
      "name": "python"
    }
  },
  "cells": [
    {
      "cell_type": "markdown",
      "metadata": {
        "id": "view-in-github",
        "colab_type": "text"
      },
      "source": [
        "<a href=\"https://colab.research.google.com/github/Bastian1212/Hola_M/blob/main/Billionaires_poisson_reg.ipynb\" target=\"_parent\"><img src=\"https://colab.research.google.com/assets/colab-badge.svg\" alt=\"Open In Colab\"/></a>"
      ]
    },
    {
      "cell_type": "code",
      "metadata": {
        "id": "zV4l9HgmFouA"
      },
      "source": [
        "import pandas as pd\n",
        "import numpy as np\n",
        "import math\n",
        "import matplotlib.pyplot as plt\n",
        "import seaborn as sns\n",
        "# configuración de figuras\n",
        "plt.rcParams[\"figure.figsize\"] = (14, 6)  \n",
        "import time\n",
        "\n",
        "import scipy.optimize \n",
        "from scipy.special import factorial\n",
        "import scipy.stats\n",
        "\n",
        "# For bootstrap\n",
        "from random import choices\n",
        "\n",
        "# graphic loader\n",
        "from tqdm import tqdm\n"
      ],
      "execution_count": null,
      "outputs": []
    },
    {
      "cell_type": "code",
      "metadata": {
        "id": "JrUx9qv6F0JG",
        "colab": {
          "base_uri": "https://localhost:8080/",
          "height": 235
        },
        "outputId": "b91c9d73-262c-4481-b00a-0e6492ead619"
      },
      "source": [
        "df = pd.read_csv(\"https://raw.githubusercontent.com/Bastian1212/work2/main/billonarios.csv\", index_col=\"pais\")\n",
        "df.head()"
      ],
      "execution_count": null,
      "outputs": [
        {
          "output_type": "execute_result",
          "data": {
            "text/html": [
              "<div>\n",
              "<style scoped>\n",
              "    .dataframe tbody tr th:only-of-type {\n",
              "        vertical-align: middle;\n",
              "    }\n",
              "\n",
              "    .dataframe tbody tr th {\n",
              "        vertical-align: top;\n",
              "    }\n",
              "\n",
              "    .dataframe thead th {\n",
              "        text-align: right;\n",
              "    }\n",
              "</style>\n",
              "<table border=\"1\" class=\"dataframe\">\n",
              "  <thead>\n",
              "    <tr style=\"text-align: right;\">\n",
              "      <th></th>\n",
              "      <th>nbillonarios</th>\n",
              "      <th>logpibpc</th>\n",
              "      <th>logpob</th>\n",
              "      <th>gatt</th>\n",
              "    </tr>\n",
              "    <tr>\n",
              "      <th>pais</th>\n",
              "      <th></th>\n",
              "      <th></th>\n",
              "      <th></th>\n",
              "      <th></th>\n",
              "    </tr>\n",
              "  </thead>\n",
              "  <tbody>\n",
              "    <tr>\n",
              "      <th>United States</th>\n",
              "      <td>469</td>\n",
              "      <td>10.786021</td>\n",
              "      <td>19.532846</td>\n",
              "      <td>60</td>\n",
              "    </tr>\n",
              "    <tr>\n",
              "      <th>Canada</th>\n",
              "      <td>25</td>\n",
              "      <td>10.743365</td>\n",
              "      <td>17.319439</td>\n",
              "      <td>0</td>\n",
              "    </tr>\n",
              "    <tr>\n",
              "      <th>Bahamas, The</th>\n",
              "      <td>0</td>\n",
              "      <td>10.072139</td>\n",
              "      <td>12.760934</td>\n",
              "      <td>0</td>\n",
              "    </tr>\n",
              "    <tr>\n",
              "      <th>Aruba</th>\n",
              "      <td>0</td>\n",
              "      <td>10.223734</td>\n",
              "      <td>11.526276</td>\n",
              "      <td>0</td>\n",
              "    </tr>\n",
              "    <tr>\n",
              "      <th>Bermuda</th>\n",
              "      <td>0</td>\n",
              "      <td>11.446847</td>\n",
              "      <td>11.086334</td>\n",
              "      <td>0</td>\n",
              "    </tr>\n",
              "  </tbody>\n",
              "</table>\n",
              "</div>"
            ],
            "text/plain": [
              "               nbillonarios   logpibpc     logpob  gatt\n",
              "pais                                                   \n",
              "United States           469  10.786021  19.532846    60\n",
              "Canada                   25  10.743365  17.319439     0\n",
              "Bahamas, The              0  10.072139  12.760934     0\n",
              "Aruba                     0  10.223734  11.526276     0\n",
              "Bermuda                   0  11.446847  11.086334     0"
            ]
          },
          "metadata": {
            "tags": []
          },
          "execution_count": 2
        }
      ]
    },
    {
      "cell_type": "markdown",
      "metadata": {
        "id": "C-bSh3M_Teol"
      },
      "source": [
        "# PARTE 1: Modelo (1.0pt)"
      ]
    },
    {
      "cell_type": "markdown",
      "metadata": {
        "id": "UbXHJoc1R7VA"
      },
      "source": [
        "### Implementando poisson probability mass function : \n",
        "\n",
        "\n",
        "$$\n",
        "p(y_i | x_i ) = \\frac{\\lambda_i^{y_i}}{y_i!} \\exp \\left ({-\\lambda_i} \\right)\n",
        "$$"
      ]
    },
    {
      "cell_type": "code",
      "metadata": {
        "id": "6Ke_9SB2HgMx"
      },
      "source": [
        "# Implementación de poisson probability mass function\n",
        "def poisson(y, lambda_):\n",
        "  return lambda_**y / factorial(y) * np.exp(-lambda_)\n"
      ],
      "execution_count": null,
      "outputs": []
    },
    {
      "cell_type": "markdown",
      "metadata": {
        "id": "3yGCkInjTkuA"
      },
      "source": [
        "**1.1** Estudie y describa la distribución de Poisson en detalle. Muestre como varía la distribución en función de su parámetro $\\lambda$, ¿Qué ocurre cuando $\\lambda$ es pequeño? ¿Y cuando es grande?"
      ]
    },
    {
      "cell_type": "code",
      "metadata": {
        "colab": {
          "base_uri": "https://localhost:8080/",
          "height": 422
        },
        "id": "1wxBoswkTKht",
        "outputId": "f5285ab3-2f8c-4d2c-a932-57947923f4ec"
      },
      "source": [
        "# Graficando diferentes distribuciones de poisson en función de su parámetro lambda\n",
        "\n",
        "# lambdas a testear\n",
        "lambdas = [ 1, 2, 3, 5, 10, 20]\n",
        "\n",
        "# Y's (eje x) de 0 a 25 (discreto)\n",
        "Y = np.arange(0, 25)\n",
        "\n",
        "fig, ax = plt.subplots()\n",
        "\n",
        "for lamb in lambdas:\n",
        "  distribucion = []\n",
        "  for y in Y:\n",
        "    # para cada lambda y cada y calcular poisson value\n",
        "    distribucion.append(poisson(y, lamb))\n",
        "    \n",
        "  # graficar subplot\n",
        "  ax.plot(Y,\n",
        "        distribucion,\n",
        "        alpha=0.6,\n",
        "        label='$\\lambda$={}'.format(lamb),\n",
        "        marker='*')\n",
        "  \n",
        "ax.set_xlabel('y')\n",
        "ax.set_ylabel('p (y|x)')\n",
        "ax.legend()\n",
        "plt.title(\"Distribución de Poisson en función de $\\lambda$\")\n",
        "plt.show()\n",
        "\n",
        "print(\"Figura 1: Distribución de Poisson en función de lambda.\")\n"
      ],
      "execution_count": null,
      "outputs": [
        {
          "output_type": "display_data",
          "data": {
            "image/png": "[encoded data removed]",
            "text/plain": [
              "<Figure size 1008x432 with 1 Axes>"
            ]
          },
          "metadata": {
            "tags": [],
            "needs_background": "light"
          }
        },
        {
          "output_type": "stream",
          "text": [
            "Figura 1: Distribución de Poisson en función de lambda.\n"
          ],
          "name": "stdout"
        }
      ]
    },
    {
      "cell_type": "markdown",
      "metadata": {
        "id": "0zYe9b-yUHYG"
      },
      "source": [
        "Cuando $\\lambda$ toma valores pequeños (ej. 1, 2, 3 y 5 en Figura 1), la distribución de Poisson tiene una forma asímetrica positiva (a la derecha) y a medida que $\\lambda$ aumenta, la distribución tiende a normalizarse. \n",
        "\n",
        "Veamos como cambia la asimetría en función de $\\lambda$:\n"
      ]
    },
    {
      "cell_type": "code",
      "metadata": {
        "colab": {
          "base_uri": "https://localhost:8080/",
          "height": 424
        },
        "id": "K8d9UzndUIns",
        "outputId": "6bf57100-5418-4f3d-e536-00935172b981"
      },
      "source": [
        "from scipy.stats import skew # Para estimar asimetría\n",
        "\n",
        "\n",
        "# Graficando diferentes asimetrías en función de su parámetro lambda\n",
        "\n",
        "# lambdas a testear\n",
        "lambdas = np.linspace(0, 20)\n",
        "\n",
        "# Y's (eje x) de 0 a 100 (discreto)\n",
        "Y = np.arange(0, 100)\n",
        "\n",
        "asimetrias = []\n",
        "for lamb in lambdas:\n",
        "  distribucion = []\n",
        "  for y in Y:\n",
        "    # para cada lambda y cada y calcular poisson value\n",
        "    distribucion.append(poisson(y, lamb))\n",
        "    # calcular asimetria\n",
        "  asimetrias.append(skew(distribucion)) \n",
        "# graficar subplot\n",
        "plt.plot(lambdas,\n",
        "      asimetrias,\n",
        "      alpha=0.6,\n",
        "      label='$\\lambda$={}'.format(lamb),\n",
        "      marker='.')\n",
        "\n",
        "plt.grid()\n",
        "plt.xlabel('$\\lambda$')\n",
        "plt.ylabel('Asimetría')\n",
        "plt.title(\"Asimetría en función de $\\lambda$\")\n",
        "plt.show()\n",
        "\n",
        "print(\"Figura 2: Variación de la asimetría de una distribución de Poisson en función de lambda.\")\n"
      ],
      "execution_count": null,
      "outputs": [
        {
          "output_type": "display_data",
          "data": {
            "image/png": "[encoded data removed]",
            "text/plain": [
              "<Figure size 1008x432 with 1 Axes>"
            ]
          },
          "metadata": {
            "tags": [],
            "needs_background": "light"
          }
        },
        {
          "output_type": "stream",
          "text": [
            "Figura 2: Variación de la asimetría de una distribución de Poisson en función de lambda.\n"
          ],
          "name": "stdout"
        }
      ]
    },
    {
      "cell_type": "markdown",
      "metadata": {
        "id": "W2hVvVu0uujw"
      },
      "source": [
        "En la Figura 2 se observa como la asimetría de la distribución de Poisson disminuye a medida que $\\lambda$ aumenta.\n",
        "\n",
        "**NOTA**: Ahondar en el por qué esto ocurre (debido al [teorema del límite central](https://web.stanford.edu/class/archive/cs/cs109/cs109.1178/lectureHandouts/190-central-limit-theorem.pdf))"
      ]
    },
    {
      "cell_type": "markdown",
      "metadata": {
        "id": "aDvBwgm9RHmP"
      },
      "source": [
        "### ¿Los multi-millonarios en el mundo siguen una distribución de Poisson?\n",
        "\n",
        "[Treisman (2016)](https://pubs.aeaweb.org/doi/pdfplus/10.1257/aer.p20161068) estudia la cantidad de multi-millonarios (UDS billions) según las características del País. El autor utiliza una regresión de Poisson para demostrar que Rusia tiene más multi-millonarios que los esperados (según PIB, población, permanencia en GATT y WTO). Utilizar este tipo de estimadores (Poisson Regression) tiene más sentido que utilizar OLS (ordinary least squeares), puesto que la variable dependiente es un `count` (discreta, no negativa) y además se asume que los ricos por país están distribuidos de forma similar a una distribución de Poisson. \n",
        "\n",
        "A partir de la data entregada para esta tarea, podemos preguntarnos si realmente la asumpción es correcta, ¿Los multi-millonarios en el mundo siguen una distribución de Poisson?\n",
        "\n"
      ]
    },
    {
      "cell_type": "code",
      "metadata": {
        "colab": {
          "base_uri": "https://localhost:8080/",
          "height": 406
        },
        "id": "uUQXZ4gzUAS2",
        "outputId": "fe177b9d-48e4-49f8-9224-b70b8be644a5"
      },
      "source": [
        "# Veamos si los multi-millonarios por país siguen una distribución de Poisson\n",
        "df[\"nbillonarios\"].plot(kind='hist', bins=100)\n",
        "plt.ylabel(\"Count\")\n",
        "plt.xlabel(\"Número de multi-millonarios por país\")\n",
        "plt.show()\n",
        "\n",
        "print(\"Figura 3: Distribución de multi-millonarios por país.\")"
      ],
      "execution_count": null,
      "outputs": [
        {
          "output_type": "display_data",
          "data": {
            "image/png": "[encoded data removed]",
            "text/plain": [
              "<Figure size 1008x432 with 1 Axes>"
            ]
          },
          "metadata": {
            "tags": [],
            "needs_background": "light"
          }
        },
        {
          "output_type": "stream",
          "text": [
            "Figura 3: Distribución de multi-millonarios por país.\n"
          ],
          "name": "stdout"
        }
      ]
    },
    {
      "cell_type": "markdown",
      "metadata": {
        "id": "nwoMkkgHVEL1"
      },
      "source": [
        "A primera vista la hipótesis de que los multi-millonarios por país siguen una distribución de Poisson parece acertada (exceptuando ciertos outliers). Se observa una distribución con una asimetría positiva, similar a las distribuciones de Poisson con un $\\lambda$ bajo. \n",
        "\n",
        "¿Qué países son aquellos que se escapan de la distribución? "
      ]
    },
    {
      "cell_type": "code",
      "metadata": {
        "colab": {
          "base_uri": "https://localhost:8080/"
        },
        "id": "C6NNGEabVDOJ",
        "outputId": "c12b0391-f29b-4a9a-e4fe-52f1a133edb5"
      },
      "source": [
        "# Asimetría de los datos nbillonarios\n",
        "print(\"Asimetría nbillonarios:\", round(skew(df[\"nbillonarios\"].values), 2))\n",
        "print(\"_____________________________\")\n",
        "# Paises con mayores números de multi-millonarios\n",
        "print(\"Top 5 países con más multi-millonarios\")\n",
        "df[\"nbillonarios\"].sort_values(ascending=False).head(5)"
      ],
      "execution_count": null,
      "outputs": [
        {
          "output_type": "stream",
          "text": [
            "Asimetría nbillonarios: 12.28\n",
            "_____________________________\n",
            "Top 5 países con más multi-millonarios\n"
          ],
          "name": "stdout"
        },
        {
          "output_type": "execute_result",
          "data": {
            "text/plain": [
              "pais\n",
              "United States         469\n",
              "Russian Federation     87\n",
              "Germany                59\n",
              "India                  53\n",
              "China                  42\n",
              "Name: nbillonarios, dtype: int64"
            ]
          },
          "metadata": {
            "tags": []
          },
          "execution_count": 14
        }
      ]
    },
    {
      "cell_type": "code",
      "metadata": {
        "colab": {
          "base_uri": "https://localhost:8080/",
          "height": 406
        },
        "id": "pDRvIqt5Y2oJ",
        "outputId": "d23c60a5-0a67-4382-ad87-515e04cf11b8"
      },
      "source": [
        "# El mismo gráfico que la figura 3 pero sin EEUU y Rusia\n",
        "# Veamos si los multi-millonarios por país siguen una distribución de Poisson\n",
        "df.loc[~df.index.isin([\"United States\", \"Russian Federation\"])][\"nbillonarios\"].plot(kind='hist', bins=15)\n",
        "plt.ylabel(\"Count\")\n",
        "plt.xlabel(\"Número de multi-millonarios por país\")\n",
        "plt.show()\n",
        "\n",
        "print(\"Figura 4: Distribución de multi-millonarios por país (Sin EEUU y Rusia).\")\n"
      ],
      "execution_count": null,
      "outputs": [
        {
          "output_type": "display_data",
          "data": {
            "image/png": "[encoded data removed]",
            "text/plain": [
              "<Figure size 1008x432 with 1 Axes>"
            ]
          },
          "metadata": {
            "tags": [],
            "needs_background": "light"
          }
        },
        {
          "output_type": "stream",
          "text": [
            "Figura 4: Distribución de multi-millonarios por país (Sin EEUU y Rusia).\n"
          ],
          "name": "stdout"
        }
      ]
    },
    {
      "cell_type": "markdown",
      "metadata": {
        "id": "D9lQqF-raZSn"
      },
      "source": [
        "Sacando EEUU y Rusia, se observa de mejor manera la similitud de los datos a una distribución de Poisson con $\\lambda$ bajo."
      ]
    },
    {
      "cell_type": "markdown",
      "metadata": {
        "id": "af_ikJh-aWjN"
      },
      "source": [
        "## PARTE 1.2"
      ]
    },
    {
      "cell_type": "markdown",
      "metadata": {
        "id": "IIxoEWo3uZ4X"
      },
      "source": [
        "**1.2** Reemplace las expresiones y obtenga una expresión analítica para el logaritmo de la verosimilitud: $\\log \\mathcal{L}(\\theta)$. Muestre la ecuación obtenida. HINT: Puede ignorar los términos que no dependan de $\\theta$. Luego obtenga una expresión analítica para la primera derivada del logaritmo de la verosimilitud. Muestra la ecuación obtenida"
      ]
    },
    {
      "cell_type": "markdown",
      "metadata": {
        "id": "5mYcNvvwbEhc"
      },
      "source": [
        "# TO DO: Acá poner en LaTeX "
      ]
    },
    {
      "cell_type": "markdown",
      "metadata": {
        "id": "4YxjBbK9cKGi"
      },
      "source": [
        "# PARTE 2: Implementación (1.5pt)\n",
        " \n",
        " **2.1** Implemente el logaritmo de la verosimilitud y su derivada usando `numpy`. Utilice operaciones vectoriales (prohibido usar `for` para iterar en los países).\n",
        "\n"
      ]
    },
    {
      "cell_type": "markdown",
      "metadata": {
        "id": "UJY4PgRAd9yK"
      },
      "source": [
        "Primero implementar una función para `intensidad` $\\lambda$:\n",
        "\n",
        "$$\n",
        "\\lambda_i = \\exp \\left (\\theta_0 + \\sum_{j=1}^M \\theta_j x_{ij} \\right)\n",
        "$$\n",
        "\n",
        "donde \n",
        "\n",
        "- $\\theta$ es el vector de parámetros que deseamos ajustar \n",
        "- $y_i$ y $x_i$ son la cantidad de billonarios y el vector de atributos del país $i$, respectivamente\n",
        "\n",
        "\n"
      ]
    },
    {
      "cell_type": "code",
      "metadata": {
        "id": "H0xHcEG5lK0b"
      },
      "source": [
        "# creando una copia del dataframe\n",
        "df_copy = df.copy()\n",
        "\n",
        "# Defininendo los vectores X e y\n",
        "y = df_copy.pop(\"nbillonarios\")\n",
        "X = df_copy.values\n",
        "\n",
        "# Estandarizar (restar la media y dividir por la desviación estandar)\n",
        "X = (X - np.mean(X, axis=0)) / np.std(X, axis=0)\n",
        "\n",
        "# Agregar 1 en la primera columna para que theta[0]*x = theta[0]\n",
        "X = np.concatenate((np.ones((X.shape[0], 1)), X), axis=1)"
      ],
      "execution_count": null,
      "outputs": []
    },
    {
      "cell_type": "code",
      "metadata": {
        "id": "8vRsSwS6P7qS"
      },
      "source": [
        "# Implementación de intensidad\n",
        "def intensidad(theta, X):\n",
        "  return np.exp(np.matmul(X, theta)) # X0 = 1 por lo que se cumple la fórmula de intensidad\n",
        "\n",
        "# Implementación del logaritmo de la verosimilitud negativo (para minimizar) \n",
        "def neg_log_verosimilitud(theta, X, y):\n",
        "  lambda_ = intensidad(theta, X)\n",
        "  # acá se puede obviar el termino np.log(factorial(y)) porque no depende de theta\n",
        "  log_likelihood =np.sum(y * np.log(lambda_) - lambda_)\n",
        "\n",
        "  return -log_likelihood\n",
        "\n",
        "# Implementación de la derivada de log_verosimilitud\n",
        "def derivada_log_verosimilitud(theta, X, y):\n",
        "  lambda_ = intensidad(theta, X)\n",
        "  return np.matmul(X.T, lambda_ - y)"
      ],
      "execution_count": null,
      "outputs": []
    },
    {
      "cell_type": "markdown",
      "metadata": {
        "id": "XdisavDMk3Vj"
      },
      "source": [
        "## PARTE 2.2:\n",
        "**2.2** Implemente una rutina que encuentre el vector de parámetros óptimo en base a `scipy.optimize.minimize` "
      ]
    },
    {
      "cell_type": "markdown",
      "metadata": {
        "id": "3Bjg45RdRBEx"
      },
      "source": [
        "Métodos disponibles:\n",
        "\n",
        "\n",
        "`Nelder-Mead `\n",
        "\n",
        "`Powell`\n",
        "\n",
        "`CG` \n",
        "\n",
        "`BFGS`\n",
        "\n",
        "`Newton-CG`\n",
        "\n",
        "`L-BFGS-B`\n",
        "\n",
        "`TNC`\n",
        "\n",
        "`COBYLA`\n",
        "\n",
        "`SLSQP`\n",
        "\n",
        "`trust-constr`\n",
        "\n",
        "`dogleg`\n",
        "\n",
        "`trust-ncg`\n",
        "\n",
        "`trust-exact`\n",
        "\n",
        "`trust-krylov`"
      ]
    },
    {
      "cell_type": "code",
      "metadata": {
        "colab": {
          "base_uri": "https://localhost:8080/"
        },
        "id": "kMuRrumuROIk",
        "outputId": "fc1f9bf9-991c-403e-fe4b-ee5561ebf0b3"
      },
      "source": [
        "# Inicialización de theta\n",
        "theta = np.array([0.1] * X.shape[-1])\n",
        "\n",
        "res = scipy.optimize.minimize(fun = neg_log_verosimilitud, \n",
        "                              x0 = theta, \n",
        "                              method = 'Nelder-Mead', \n",
        "                              jac = derivada_log_verosimilitud, \n",
        "                              args=(X, y),\n",
        "                              tol=1e-6)\n",
        "print(res)\n",
        "\n",
        "# Hay que corregir los problemas con logaritmos de 0 (no definido)"
      ],
      "execution_count": null,
      "outputs": [
        {
          "output_type": "stream",
          "text": [
            " final_simplex: (array([[1.24017337, 1.87699633, 0.12841121],\n",
            "       [1.24017402, 1.87699555, 0.12841134],\n",
            "       [1.24017413, 1.87699658, 0.12841074],\n",
            "       [1.24017371, 1.87699566, 0.12841082]]), array([-3306.21338297, -3306.21338297, -3306.21338297, -3306.21338297]))\n",
            "           fun: -3306.2133829661952\n",
            "       message: 'Optimization terminated successfully.'\n",
            "          nfev: 302\n",
            "           nit: 165\n",
            "        status: 0\n",
            "       success: True\n",
            "             x: array([1.24017337, 1.87699633, 0.12841121])\n"
          ],
          "name": "stdout"
        },
        {
          "output_type": "stream",
          "text": [
            "/usr/local/lib/python3.7/dist-packages/scipy/optimize/_minimize.py:506: RuntimeWarning: Method Nelder-Mead does not use gradient information (jac).\n",
            "  RuntimeWarning)\n"
          ],
          "name": "stderr"
        }
      ]
    },
    {
      "cell_type": "markdown",
      "metadata": {
        "id": "wHTkiqICNHCy"
      },
      "source": [
        "## PARTE 2.3:"
      ]
    },
    {
      "cell_type": "markdown",
      "metadata": {
        "id": "XzlCmes44AQe"
      },
      "source": [
        "**2.3** Implemente una rutina que calcule el pseudo coeficiente de correlación\n",
        "$$\n",
        "R^2 = \\frac{\\log \\mathcal{L} (\\hat \\theta_0) - \\log \\mathcal{L} (\\hat \\theta) }{\\log \\mathcal{L} (\\hat \\theta_0)} \\in [0, 1]\n",
        "$$\n",
        "donde $\\log \\mathcal{L} (\\hat \\theta)$ es el logaritmo de la verosimilitud de su mejor modelo y $\\log \\mathcal{L} (\\hat \\theta_0)$ es el logaritmo de la verosimilitud de un modelo que tiene sólo el parámetro $\\theta_0$"
      ]
    },
    {
      "cell_type": "code",
      "metadata": {
        "id": "4lUmfxaqEAHM"
      },
      "source": [
        "def R2(theta, X, y, theta_0):\n",
        "  lambda_theta0 = np.exp(theta_0)\n",
        "  log_ver_th_0 = np.sum(y * np.log(lambda_theta0) - lambda_theta0)\n",
        "  log_ver_theta = -neg_log_verosimilitud(theta, X, y)\n",
        "  return (log_ver_th_0 - log_ver_theta)/log_ver_th_0"
      ],
      "execution_count": null,
      "outputs": []
    },
    {
      "cell_type": "code",
      "metadata": {
        "colab": {
          "base_uri": "https://localhost:8080/"
        },
        "id": "iBnbmeHmEjYa",
        "outputId": "e12734ac-65bf-4688-9c27-b539ce22785a"
      },
      "source": [
        "theta_0 = res.x[0] # usando sólo theta[0] \n",
        "r2 = R2(res.x, X, y, theta_0)\n",
        "print(\"r2 = \", r2)\n",
        "\n",
        "\n",
        "# CORREGIR R2 PORQUE DEBERÍA DAR ENTRE 0 Y 1, VER EL ERROR"
      ],
      "execution_count": null,
      "outputs": [
        {
          "output_type": "stream",
          "text": [
            "r2 =  -3.6854113475423245\n"
          ],
          "name": "stdout"
        }
      ]
    },
    {
      "cell_type": "markdown",
      "metadata": {
        "id": "nf5tcBnULyTY"
      },
      "source": [
        "## **CORREGIR R2 PORQUE DEBERÍA DAR ENTRE 0 Y 1, VER EL ERROR**"
      ]
    },
    {
      "cell_type": "markdown",
      "metadata": {
        "id": "-Y9Xofihbccf"
      },
      "source": [
        "## PARTE 2.4:\n",
        "**2.4** Implemente una rutina de bootstrap resampling para encontrar la distribución y los intervalos de confianza empíricos para $\\theta$ y el pseudo coeficiente de correlación"
      ]
    },
    {
      "cell_type": "code",
      "metadata": {
        "id": "l8YiOHynXXOl"
      },
      "source": [
        "# Bootstrap: Tirándonos para arriba con la correa de la bota\n",
        "def bootstraping(X, y, n_iter=10000, metodo_estimador=\"BFGS\"):\n",
        "  # Lista vacía para agregar thetas empíricos en cada iteración \n",
        "  thetas = []\n",
        "  # Lista vacía para agregar r2 empírico en cada iteración \n",
        "  r2s = []\n",
        "\n",
        "  # Número de muestras\n",
        "  n = X.shape[0]\n",
        "\n",
        "  # Vamos a resamplear los índices del array, para sacar de X e y\n",
        "  indices = [*range(n)]\n",
        "\n",
        "  for _ in tqdm(range(n_iter)):\n",
        "    resampled_indices = choices(indices, k=n)\n",
        "    resampled_X = X[resampled_indices]\n",
        "    resampled_y = y[resampled_indices]\n",
        "  \n",
        "    # Pasar la muestra resampleada al estimador (scipy.minimize)\n",
        "    res = scipy.optimize.minimize(fun = neg_log_verosimilitud, \n",
        "                                x0 = theta, \n",
        "                                method = metodo_estimador, \n",
        "                                jac = derivada_log_verosimilitud, \n",
        "                                args=(resampled_X, resampled_y),\n",
        "                                tol=1e-1)\n",
        "    \n",
        "    # agregar a lista thetas\n",
        "    thetas.append(res.x)\n",
        "\n",
        "    # agregar a r2s\n",
        "    theta_0 = res.x[0]  \n",
        "    r2 = R2(res.x, X, y, theta_0)\n",
        "    r2s.append(r2)\n",
        "  \n",
        "  return np.array(thetas), np.array(r2s)"
      ],
      "execution_count": null,
      "outputs": []
    },
    {
      "cell_type": "code",
      "metadata": {
        "colab": {
          "base_uri": "https://localhost:8080/"
        },
        "id": "v6oW1oZSijSX",
        "outputId": "d2fa7756-5c34-4f59-835b-e15f08fe9ea1"
      },
      "source": [
        "thetas, r2s = bootstraping(X, y)"
      ],
      "execution_count": null,
      "outputs": [
        {
          "output_type": "stream",
          "text": [
            "100%|██████████| 10000/10000 [02:11<00:00, 76.24it/s]\n"
          ],
          "name": "stderr"
        }
      ]
    },
    {
      "cell_type": "code",
      "metadata": {
        "colab": {
          "base_uri": "https://localhost:8080/",
          "height": 1000
        },
        "id": "cJZ6kRDbijXL",
        "outputId": "92cdb91a-8d21-43bc-95b0-27cc102d46e9"
      },
      "source": [
        "\n",
        "# Graficando distribución boostrap de cada theta con sus respectivos intervalos de confianza\n",
        "for i in range(thetas.shape[-1]): # para cada theta\n",
        "  data = thetas[:, i] # seleccionando theta\n",
        "\n",
        "  # calculando intervalos de confianza\n",
        "  ic_izq, ic_der = scipy.stats.norm.interval(0.95, \n",
        "                                             loc=np.mean(data), \n",
        "                                             scale=scipy.stats.sem(data))\n",
        "\n",
        "  # Ploteando\n",
        "  ax = sns.displot(data, kde=True)\n",
        "  plt.title(f\"Bootstrap distribution theta {i}\")\n",
        "  plt.show()\n",
        "  print(f\"Intervalos de confianza theta {i}\")\n",
        "  print(\"Intervalo Izquierdo:\", round(ic_izq,3))\n",
        "  print(\"Intervalo Derecho:\", round(ic_der,3))\n",
        "  print(\"----------------------------------------\")\n"
      ],
      "execution_count": null,
      "outputs": [
        {
          "output_type": "display_data",
          "data": {
            "image/png": "[encoded data removed]",
            "text/plain": [
              "<Figure size 360x360 with 1 Axes>"
            ]
          },
          "metadata": {
            "tags": [],
            "needs_background": "light"
          }
        },
        {
          "output_type": "stream",
          "text": [
            "Intervalos de confianza theta 0\n",
            "Intervalo Izquierdo: -1.522\n",
            "Intervalo Derecho: -1.502\n",
            "----------------------------------------\n"
          ],
          "name": "stdout"
        },
        {
          "output_type": "display_data",
          "data": {
            "image/png": "[encoded data removed]",
            "text/plain": [
              "<Figure size 360x360 with 1 Axes>"
            ]
          },
          "metadata": {
            "tags": [],
            "needs_background": "light"
          }
        },
        {
          "output_type": "stream",
          "text": [
            "Intervalos de confianza theta 1\n",
            "Intervalo Izquierdo: 1.689\n",
            "Intervalo Derecho: 1.7\n",
            "----------------------------------------\n"
          ],
          "name": "stdout"
        },
        {
          "output_type": "display_data",
          "data": {
            "image/png": "[encoded data removed]",
            "text/plain": [
              "<Figure size 360x360 with 1 Axes>"
            ]
          },
          "metadata": {
            "tags": [],
            "needs_background": "light"
          }
        },
        {
          "output_type": "stream",
          "text": [
            "Intervalos de confianza theta 2\n",
            "Intervalo Izquierdo: 2.54\n",
            "Intervalo Derecho: 2.554\n",
            "----------------------------------------\n"
          ],
          "name": "stdout"
        },
        {
          "output_type": "display_data",
          "data": {
            "image/png": "[encoded data removed]",
            "text/plain": [
              "<Figure size 360x360 with 1 Axes>"
            ]
          },
          "metadata": {
            "tags": [],
            "needs_background": "light"
          }
        },
        {
          "output_type": "stream",
          "text": [
            "Intervalos de confianza theta 3\n",
            "Intervalo Izquierdo: 0.029\n",
            "Intervalo Derecho: 0.036\n",
            "----------------------------------------\n"
          ],
          "name": "stdout"
        }
      ]
    },
    {
      "cell_type": "markdown",
      "metadata": {
        "id": "AjsgD0sQ6bSP"
      },
      "source": [
        "A medida que las muestras aumentan, la distancia entre la media y los intervalos de confianza disminuyen"
      ]
    },
    {
      "cell_type": "code",
      "metadata": {
        "colab": {
          "base_uri": "https://localhost:8080/",
          "height": 441
        },
        "id": "X-NBYpVEvFTt",
        "outputId": "8812b20e-0071-426d-e085-221d7a29aabd"
      },
      "source": [
        "# ARREGLAR R2 (DEBE SER ENTRE 0 y 1)\n",
        "# Boostrap distribution de R2\n",
        "sns.histplot(r2s, kde=True)\n",
        "plt.title(f\"Bootstrap distribution R2\")\n",
        "plt.show()\n",
        "\n",
        "# calculando intervalos de confianza\n",
        "ic_izq, ic_der = scipy.stats.norm.interval(0.95, \n",
        "                                            loc=np.mean(r2s), \n",
        "                                            scale=scipy.stats.sem(r2s))\n",
        "\n",
        "print(\"Intervalos de confianza R2\")\n",
        "print(\"Intervalo Izquierdo:\", round(ic_izq,3))\n",
        "print(\"Intervalo Derecho:\", round(ic_der,3))"
      ],
      "execution_count": null,
      "outputs": [
        {
          "output_type": "display_data",
          "data": {
            "image/png": "[encoded data removed]",
            "text/plain": [
              "<Figure size 1008x432 with 1 Axes>"
            ]
          },
          "metadata": {
            "tags": [],
            "needs_background": "light"
          }
        },
        {
          "output_type": "stream",
          "text": [
            "Intervalos de confianza R2\n",
            "Intervalo Izquierdo: 3.157\n",
            "Intervalo Derecho: 3.19\n"
          ],
          "name": "stdout"
        }
      ]
    },
    {
      "cell_type": "markdown",
      "metadata": {
        "id": "CO8r3QwR5gox"
      },
      "source": [
        "# PARTE 3: Resultados (3pt)"
      ]
    },
    {
      "cell_type": "markdown",
      "metadata": {
        "id": "CiPBddFZ5gXm"
      },
      "source": [
        "**3.1.** Compare los métodos `CG`, `BFGS`, `Nelder-mead` y `Powell` en términos del vector de parámetros obtenido, la log verosimilitud alcanzada, el pseudo coeficiente de correlación alcanzado, el número de iteraciones necesarias para converger y el tiempo total para converger. Seleccione uno de los métodos para contestar los siguientes puntos"
      ]
    },
    {
      "cell_type": "code",
      "metadata": {
        "colab": {
          "base_uri": "https://localhost:8080/"
        },
        "id": "HuLVNJu-6Faw",
        "outputId": "a4452a31-3014-4586-cd9b-17b14dfc045f"
      },
      "source": [
        "metodos = [\"CG\", \"BFGS\", \"Nelder-Mead\", \"Powell\"]\n",
        "\n",
        "# inicializando un diccionario donde guardaremos todos los resultados\n",
        "resultados = dict()\n",
        "\n",
        "for metodo in tqdm(metodos):\n",
        "  # diccionario del método\n",
        "  dict_metodo = dict()\n",
        "\n",
        "  # Inicialización de theta\n",
        "  theta = np.array([0.1] * X.shape[-1])\n",
        "\n",
        "  # temporizar\n",
        "  start = time.time()\n",
        "\n",
        "  # Pasar la muestra resampleada al estimador (scipy.minimize)\n",
        "  res = scipy.optimize.minimize(fun = neg_log_verosimilitud, \n",
        "                            x0 = theta, \n",
        "                            method = metodo, \n",
        "                            jac = derivada_log_verosimilitud, \n",
        "                            args=(X, y),\n",
        "                            tol=1e-6)\n",
        "\n",
        "  end = time.time()\n",
        "  total_time = end - start\n",
        "  # agregar a lista thetas\n",
        "  dict_metodo[\"tiempo\"] = total_time\n",
        "  dict_metodo[\"thetas\"] = res.x\n",
        "  dict_metodo[\"log_verosimilitud\"] = -neg_log_verosimilitud(res.x, X, y)\n",
        "  dict_metodo[\"iteraciones\"] = res.nit\n",
        "  \n",
        "  # calculando r2\n",
        "  theta_0 = res.x[0]  \n",
        "  r2 = R2(res.x, X, y, theta_0)\n",
        "  dict_metodo[\"r2\"] = r2\n",
        "\n",
        "  # agregando el diccionario del metodo al diccionario de resultados\n",
        "  resultados[metodo] = dict_metodo\n",
        "\n",
        "\n"
      ],
      "execution_count": null,
      "outputs": [
        {
          "output_type": "stream",
          "text": [
            "\r  0%|          | 0/4 [00:00<?, ?it/s]/usr/local/lib/python3.7/dist-packages/scipy/optimize/_minimize.py:506: RuntimeWarning: Method Nelder-Mead does not use gradient information (jac).\n",
            "  RuntimeWarning)\n",
            " 75%|███████▌  | 3/4 [00:00<00:00,  9.74it/s]/usr/local/lib/python3.7/dist-packages/scipy/optimize/_minimize.py:506: RuntimeWarning: Method Powell does not use gradient information (jac).\n",
            "  RuntimeWarning)\n",
            "100%|██████████| 4/4 [00:00<00:00,  6.94it/s]\n"
          ],
          "name": "stderr"
        }
      ]
    },
    {
      "cell_type": "code",
      "metadata": {
        "colab": {
          "base_uri": "https://localhost:8080/"
        },
        "id": "Wns7tXpj-Qju",
        "outputId": "8bfc0128-e24f-412d-c684-5a6b95198a88"
      },
      "source": [
        "resultados"
      ],
      "execution_count": null,
      "outputs": [
        {
          "output_type": "execute_result",
          "data": {
            "text/plain": [
              "{'BFGS': {'iteraciones': 15,\n",
              "  'log_verosimilitud': 3459.0919420729174,\n",
              "  'r2': 2.861980553168679,\n",
              "  'thetas': array([-1.62704503,  1.73933685,  2.59760107,  0.13179676]),\n",
              "  'tiempo': 0.016349077224731445},\n",
              " 'CG': {'iteraciones': 47,\n",
              "  'log_verosimilitud': 3459.0919420729165,\n",
              "  'r2': 2.8619805218120855,\n",
              "  'thetas': array([-1.62704506,  1.73933685,  2.59760108,  0.13179677]),\n",
              "  'tiempo': 0.07111406326293945},\n",
              " 'Nelder-Mead': {'iteraciones': 235,\n",
              "  'log_verosimilitud': 3459.091942072886,\n",
              "  'r2': 2.8619801830685017,\n",
              "  'thetas': array([-1.62704537,  1.73933706,  2.59760135,  0.13179649]),\n",
              "  'tiempo': 0.21634173393249512},\n",
              " 'Powell': {'iteraciones': 9,\n",
              "  'log_verosimilitud': 3459.0916762813436,\n",
              "  'r2': 2.864554339254204,\n",
              "  'thetas': array([-1.62466879,  1.7388497 ,  2.596631  ,  0.13152722]),\n",
              "  'tiempo': 0.2632284164428711}}"
            ]
          },
          "metadata": {
            "tags": []
          },
          "execution_count": 402
        }
      ]
    },
    {
      "cell_type": "code",
      "metadata": {
        "colab": {
          "base_uri": "https://localhost:8080/",
          "height": 173
        },
        "id": "3mwtgc5U-WzQ",
        "outputId": "892595ec-2b5e-4879-8bd8-df5fb825052c"
      },
      "source": [
        "pd.DataFrame(resultados).T"
      ],
      "execution_count": null,
      "outputs": [
        {
          "output_type": "execute_result",
          "data": {
            "text/html": [
              "<div>\n",
              "<style scoped>\n",
              "    .dataframe tbody tr th:only-of-type {\n",
              "        vertical-align: middle;\n",
              "    }\n",
              "\n",
              "    .dataframe tbody tr th {\n",
              "        vertical-align: top;\n",
              "    }\n",
              "\n",
              "    .dataframe thead th {\n",
              "        text-align: right;\n",
              "    }\n",
              "</style>\n",
              "<table border=\"1\" class=\"dataframe\">\n",
              "  <thead>\n",
              "    <tr style=\"text-align: right;\">\n",
              "      <th></th>\n",
              "      <th>tiempo</th>\n",
              "      <th>thetas</th>\n",
              "      <th>log_verosimilitud</th>\n",
              "      <th>iteraciones</th>\n",
              "      <th>r2</th>\n",
              "    </tr>\n",
              "  </thead>\n",
              "  <tbody>\n",
              "    <tr>\n",
              "      <th>CG</th>\n",
              "      <td>0.0711141</td>\n",
              "      <td>[-1.6270450589854406, 1.7393368531036575, 2.59...</td>\n",
              "      <td>3459.09</td>\n",
              "      <td>47</td>\n",
              "      <td>2.86198</td>\n",
              "    </tr>\n",
              "    <tr>\n",
              "      <th>BFGS</th>\n",
              "      <td>0.0163491</td>\n",
              "      <td>[-1.6270450299984256, 1.7393368465210892, 2.59...</td>\n",
              "      <td>3459.09</td>\n",
              "      <td>15</td>\n",
              "      <td>2.86198</td>\n",
              "    </tr>\n",
              "    <tr>\n",
              "      <th>Nelder-Mead</th>\n",
              "      <td>0.216342</td>\n",
              "      <td>[-1.6270453721306444, 1.739337060069844, 2.597...</td>\n",
              "      <td>3459.09</td>\n",
              "      <td>235</td>\n",
              "      <td>2.86198</td>\n",
              "    </tr>\n",
              "    <tr>\n",
              "      <th>Powell</th>\n",
              "      <td>0.263228</td>\n",
              "      <td>[-1.6246687926065504, 1.7388497045711797, 2.59...</td>\n",
              "      <td>3459.09</td>\n",
              "      <td>9</td>\n",
              "      <td>2.86455</td>\n",
              "    </tr>\n",
              "  </tbody>\n",
              "</table>\n",
              "</div>"
            ],
            "text/plain": [
              "                tiempo  ...       r2\n",
              "CG           0.0711141  ...  2.86198\n",
              "BFGS         0.0163491  ...  2.86198\n",
              "Nelder-Mead   0.216342  ...  2.86198\n",
              "Powell        0.263228  ...  2.86455\n",
              "\n",
              "[4 rows x 5 columns]"
            ]
          },
          "metadata": {
            "tags": []
          },
          "execution_count": 403
        }
      ]
    },
    {
      "cell_type": "markdown",
      "metadata": {
        "id": "zC4D34fO5zfx"
      },
      "source": [
        "**3.2.** Prediga la cantidad de billonarios de cada país usando su modelo. Muestre la cantidad de billonarios predicha y real para cada continente. ¿Qué puede comentar al respecto?"
      ]
    },
    {
      "cell_type": "code",
      "metadata": {
        "colab": {
          "base_uri": "https://localhost:8080/",
          "height": 1000
        },
        "id": "NxnjoSH8-iyZ",
        "outputId": "e4d969b4-41e3-4310-90a5-49cf89cd0bae"
      },
      "source": [
        "# Usando Powell (probar con otros si se desea)\n",
        "thetas = resultados[\"Powell\"][\"thetas\"]\n",
        "# predicciones\n",
        "y_hat = intensidad(thetas, X)\n",
        "\n",
        "# agregando y y y_hat a un dataframe\n",
        "pred_df = pd.DataFrame({\"real\":y, \"prediccion\":y_hat})\n",
        "\n",
        "# agregando el error\n",
        "pred_df[\"error\"] = np.absolute(pred_df[\"real\"] - pred_df[\"prediccion\"])\n",
        "pred_df.sort_values(\"error\", ascending=False).head(40)"
      ],
      "execution_count": null,
      "outputs": [
        {
          "output_type": "execute_result",
          "data": {
            "text/html": [
              "<div>\n",
              "<style scoped>\n",
              "    .dataframe tbody tr th:only-of-type {\n",
              "        vertical-align: middle;\n",
              "    }\n",
              "\n",
              "    .dataframe tbody tr th {\n",
              "        vertical-align: top;\n",
              "    }\n",
              "\n",
              "    .dataframe thead th {\n",
              "        text-align: right;\n",
              "    }\n",
              "</style>\n",
              "<table border=\"1\" class=\"dataframe\">\n",
              "  <thead>\n",
              "    <tr style=\"text-align: right;\">\n",
              "      <th></th>\n",
              "      <th>real</th>\n",
              "      <th>prediccion</th>\n",
              "      <th>error</th>\n",
              "    </tr>\n",
              "    <tr>\n",
              "      <th>pais</th>\n",
              "      <th></th>\n",
              "      <th></th>\n",
              "      <th></th>\n",
              "    </tr>\n",
              "  </thead>\n",
              "  <tbody>\n",
              "    <tr>\n",
              "      <th>United States</th>\n",
              "      <td>469</td>\n",
              "      <td>357.276854</td>\n",
              "      <td>111.723146</td>\n",
              "    </tr>\n",
              "    <tr>\n",
              "      <th>Japan</th>\n",
              "      <td>24</td>\n",
              "      <td>95.535727</td>\n",
              "      <td>71.535727</td>\n",
              "    </tr>\n",
              "    <tr>\n",
              "      <th>Russian Federation</th>\n",
              "      <td>87</td>\n",
              "      <td>27.432048</td>\n",
              "      <td>59.567952</td>\n",
              "    </tr>\n",
              "    <tr>\n",
              "      <th>China</th>\n",
              "      <td>42</td>\n",
              "      <td>83.355713</td>\n",
              "      <td>41.355713</td>\n",
              "    </tr>\n",
              "    <tr>\n",
              "      <th>France</th>\n",
              "      <td>14</td>\n",
              "      <td>54.138434</td>\n",
              "      <td>40.138434</td>\n",
              "    </tr>\n",
              "    <tr>\n",
              "      <th>Italy</th>\n",
              "      <td>13</td>\n",
              "      <td>42.723019</td>\n",
              "      <td>29.723019</td>\n",
              "    </tr>\n",
              "    <tr>\n",
              "      <th>India</th>\n",
              "      <td>53</td>\n",
              "      <td>27.102621</td>\n",
              "      <td>25.897379</td>\n",
              "    </tr>\n",
              "    <tr>\n",
              "      <th>Hong Kong SAR, China</th>\n",
              "      <td>26</td>\n",
              "      <td>2.147184</td>\n",
              "      <td>23.852816</td>\n",
              "    </tr>\n",
              "    <tr>\n",
              "      <th>Turkey</th>\n",
              "      <td>35</td>\n",
              "      <td>11.933297</td>\n",
              "      <td>23.066703</td>\n",
              "    </tr>\n",
              "    <tr>\n",
              "      <th>United Kingdom</th>\n",
              "      <td>35</td>\n",
              "      <td>51.349127</td>\n",
              "      <td>16.349127</td>\n",
              "    </tr>\n",
              "    <tr>\n",
              "      <th>Brazil</th>\n",
              "      <td>18</td>\n",
              "      <td>32.929743</td>\n",
              "      <td>14.929743</td>\n",
              "    </tr>\n",
              "    <tr>\n",
              "      <th>Germany</th>\n",
              "      <td>59</td>\n",
              "      <td>71.237506</td>\n",
              "      <td>12.237506</td>\n",
              "    </tr>\n",
              "    <tr>\n",
              "      <th>Spain</th>\n",
              "      <td>18</td>\n",
              "      <td>27.949062</td>\n",
              "      <td>9.949062</td>\n",
              "    </tr>\n",
              "    <tr>\n",
              "      <th>Saudi Arabia</th>\n",
              "      <td>13</td>\n",
              "      <td>5.400779</td>\n",
              "      <td>7.599221</td>\n",
              "    </tr>\n",
              "    <tr>\n",
              "      <th>Mexico</th>\n",
              "      <td>10</td>\n",
              "      <td>17.345868</td>\n",
              "      <td>7.345868</td>\n",
              "    </tr>\n",
              "    <tr>\n",
              "      <th>Canada</th>\n",
              "      <td>25</td>\n",
              "      <td>17.871789</td>\n",
              "      <td>7.128211</td>\n",
              "    </tr>\n",
              "    <tr>\n",
              "      <th>Lebanon</th>\n",
              "      <td>7</td>\n",
              "      <td>0.200221</td>\n",
              "      <td>6.799779</td>\n",
              "    </tr>\n",
              "    <tr>\n",
              "      <th>Israel</th>\n",
              "      <td>9</td>\n",
              "      <td>2.426292</td>\n",
              "      <td>6.573708</td>\n",
              "    </tr>\n",
              "    <tr>\n",
              "      <th>Belgium</th>\n",
              "      <td>2</td>\n",
              "      <td>7.136076</td>\n",
              "      <td>5.136076</td>\n",
              "    </tr>\n",
              "    <tr>\n",
              "      <th>Malaysia</th>\n",
              "      <td>8</td>\n",
              "      <td>2.922477</td>\n",
              "      <td>5.077523</td>\n",
              "    </tr>\n",
              "    <tr>\n",
              "      <th>Netherlands</th>\n",
              "      <td>5</td>\n",
              "      <td>9.976351</td>\n",
              "      <td>4.976351</td>\n",
              "    </tr>\n",
              "    <tr>\n",
              "      <th>Kazakhstan</th>\n",
              "      <td>6</td>\n",
              "      <td>1.177864</td>\n",
              "      <td>4.822136</td>\n",
              "    </tr>\n",
              "    <tr>\n",
              "      <th>Sweden</th>\n",
              "      <td>10</td>\n",
              "      <td>5.320116</td>\n",
              "      <td>4.679884</td>\n",
              "    </tr>\n",
              "    <tr>\n",
              "      <th>Ukraine</th>\n",
              "      <td>7</td>\n",
              "      <td>2.363415</td>\n",
              "      <td>4.636585</td>\n",
              "    </tr>\n",
              "    <tr>\n",
              "      <th>Argentina</th>\n",
              "      <td>1</td>\n",
              "      <td>5.464520</td>\n",
              "      <td>4.464520</td>\n",
              "    </tr>\n",
              "    <tr>\n",
              "      <th>Indonesia</th>\n",
              "      <td>5</td>\n",
              "      <td>9.041024</td>\n",
              "      <td>4.041024</td>\n",
              "    </tr>\n",
              "    <tr>\n",
              "      <th>Iran, Islamic Rep.</th>\n",
              "      <td>0</td>\n",
              "      <td>3.913999</td>\n",
              "      <td>3.913999</td>\n",
              "    </tr>\n",
              "    <tr>\n",
              "      <th>Switzerland</th>\n",
              "      <td>11</td>\n",
              "      <td>7.304838</td>\n",
              "      <td>3.695162</td>\n",
              "    </tr>\n",
              "    <tr>\n",
              "      <th>Finland</th>\n",
              "      <td>0</td>\n",
              "      <td>3.443943</td>\n",
              "      <td>3.443943</td>\n",
              "    </tr>\n",
              "    <tr>\n",
              "      <th>Denmark</th>\n",
              "      <td>1</td>\n",
              "      <td>4.371897</td>\n",
              "      <td>3.371897</td>\n",
              "    </tr>\n",
              "    <tr>\n",
              "      <th>United Arab Emirates</th>\n",
              "      <td>6</td>\n",
              "      <td>2.787051</td>\n",
              "      <td>3.212949</td>\n",
              "    </tr>\n",
              "    <tr>\n",
              "      <th>Ireland</th>\n",
              "      <td>6</td>\n",
              "      <td>2.950018</td>\n",
              "      <td>3.049982</td>\n",
              "    </tr>\n",
              "    <tr>\n",
              "      <th>Singapore</th>\n",
              "      <td>5</td>\n",
              "      <td>2.093326</td>\n",
              "      <td>2.906674</td>\n",
              "    </tr>\n",
              "    <tr>\n",
              "      <th>Korea, Rep.</th>\n",
              "      <td>12</td>\n",
              "      <td>14.781004</td>\n",
              "      <td>2.781004</td>\n",
              "    </tr>\n",
              "    <tr>\n",
              "      <th>Kuwait</th>\n",
              "      <td>4</td>\n",
              "      <td>1.471898</td>\n",
              "      <td>2.528102</td>\n",
              "    </tr>\n",
              "    <tr>\n",
              "      <th>New Zealand</th>\n",
              "      <td>4</td>\n",
              "      <td>1.490656</td>\n",
              "      <td>2.509344</td>\n",
              "    </tr>\n",
              "    <tr>\n",
              "      <th>Australia</th>\n",
              "      <td>14</td>\n",
              "      <td>16.390903</td>\n",
              "      <td>2.390903</td>\n",
              "    </tr>\n",
              "    <tr>\n",
              "      <th>Nigeria</th>\n",
              "      <td>1</td>\n",
              "      <td>3.047426</td>\n",
              "      <td>2.047426</td>\n",
              "    </tr>\n",
              "    <tr>\n",
              "      <th>Pakistan</th>\n",
              "      <td>0</td>\n",
              "      <td>1.981851</td>\n",
              "      <td>1.981851</td>\n",
              "    </tr>\n",
              "    <tr>\n",
              "      <th>Egypt, Arab Rep.</th>\n",
              "      <td>4</td>\n",
              "      <td>2.112263</td>\n",
              "      <td>1.887737</td>\n",
              "    </tr>\n",
              "  </tbody>\n",
              "</table>\n",
              "</div>"
            ],
            "text/plain": [
              "                      real  prediccion       error\n",
              "pais                                              \n",
              "United States          469  357.276854  111.723146\n",
              "Japan                   24   95.535727   71.535727\n",
              "Russian Federation      87   27.432048   59.567952\n",
              "China                   42   83.355713   41.355713\n",
              "France                  14   54.138434   40.138434\n",
              "Italy                   13   42.723019   29.723019\n",
              "India                   53   27.102621   25.897379\n",
              "Hong Kong SAR, China    26    2.147184   23.852816\n",
              "Turkey                  35   11.933297   23.066703\n",
              "United Kingdom          35   51.349127   16.349127\n",
              "Brazil                  18   32.929743   14.929743\n",
              "Germany                 59   71.237506   12.237506\n",
              "Spain                   18   27.949062    9.949062\n",
              "Saudi Arabia            13    5.400779    7.599221\n",
              "Mexico                  10   17.345868    7.345868\n",
              "Canada                  25   17.871789    7.128211\n",
              "Lebanon                  7    0.200221    6.799779\n",
              "Israel                   9    2.426292    6.573708\n",
              "Belgium                  2    7.136076    5.136076\n",
              "Malaysia                 8    2.922477    5.077523\n",
              "Netherlands              5    9.976351    4.976351\n",
              "Kazakhstan               6    1.177864    4.822136\n",
              "Sweden                  10    5.320116    4.679884\n",
              "Ukraine                  7    2.363415    4.636585\n",
              "Argentina                1    5.464520    4.464520\n",
              "Indonesia                5    9.041024    4.041024\n",
              "Iran, Islamic Rep.       0    3.913999    3.913999\n",
              "Switzerland             11    7.304838    3.695162\n",
              "Finland                  0    3.443943    3.443943\n",
              "Denmark                  1    4.371897    3.371897\n",
              "United Arab Emirates     6    2.787051    3.212949\n",
              "Ireland                  6    2.950018    3.049982\n",
              "Singapore                5    2.093326    2.906674\n",
              "Korea, Rep.             12   14.781004    2.781004\n",
              "Kuwait                   4    1.471898    2.528102\n",
              "New Zealand              4    1.490656    2.509344\n",
              "Australia               14   16.390903    2.390903\n",
              "Nigeria                  1    3.047426    2.047426\n",
              "Pakistan                 0    1.981851    1.981851\n",
              "Egypt, Arab Rep.         4    2.112263    1.887737"
            ]
          },
          "metadata": {
            "tags": []
          },
          "execution_count": 405
        }
      ]
    },
    {
      "cell_type": "markdown",
      "metadata": {
        "id": "J8crhV4rGSUd"
      },
      "source": [
        "En general el valor predicho tiene relación con el real, pero hay un gran margen de error, sobre todo en los países con más millonarios. "
      ]
    },
    {
      "cell_type": "code",
      "metadata": {
        "colab": {
          "base_uri": "https://localhost:8080/"
        },
        "id": "cl4OI82T-iwJ",
        "outputId": "29fef910-bf90-4c02-b3f5-0f5665e4ed68"
      },
      "source": [
        "from sklearn.metrics import mean_absolute_error, mean_squared_error\n",
        "print(\"MAE:\", mean_absolute_error(y, y_hat))"
      ],
      "execution_count": null,
      "outputs": [
        {
          "output_type": "stream",
          "text": [
            "MAE: 3.256102849633795\n"
          ],
          "name": "stdout"
        }
      ]
    },
    {
      "cell_type": "markdown",
      "metadata": {
        "id": "sf9SFLSP-itn"
      },
      "source": [
        "Aunque el error absoluto promedio resulta ser bajo, esto se debe a los países que tienen muy pocos millonarios. Si calculamos el error medio al cuadrado, este mostraría el efecto de los países con hartos millonarios y harto error en la predicción."
      ]
    },
    {
      "cell_type": "code",
      "metadata": {
        "colab": {
          "base_uri": "https://localhost:8080/"
        },
        "id": "Vh_zCTvIHKPq",
        "outputId": "bcc8eaac-cd08-47db-b7b0-9348937582d6"
      },
      "source": [
        "print(\"MSE:\", mean_squared_error(y, y_hat))"
      ],
      "execution_count": null,
      "outputs": [
        {
          "output_type": "stream",
          "text": [
            "MSE: 144.4654868343485\n"
          ],
          "name": "stdout"
        }
      ]
    },
    {
      "cell_type": "markdown",
      "metadata": {
        "id": "HbEqbLc854xb"
      },
      "source": [
        "**3.3.** Muestre las distribuciones empíricas de los parámetros y del pseudo coeficiente de correlación. ¿Cuáles parámetros tienen $\\theta$ significativamente distinto de cero? ¿Cuál es el intervalo de confianza al 95% del $R^2$? En base a esto ¿Qué puede decir sobre su modelo?"
      ]
    },
    {
      "cell_type": "markdown",
      "metadata": {
        "id": "ajYp0x0GHayJ"
      },
      "source": [
        "# TO DO: VER BIEN LA IMPLEMENTACION DE R2 PARA RESPONDER ESTO"
      ]
    },
    {
      "cell_type": "code",
      "metadata": {
        "id": "X9OfsPvgHZ3z"
      },
      "source": [
        ""
      ],
      "execution_count": null,
      "outputs": []
    },
    {
      "cell_type": "markdown",
      "metadata": {
        "id": "zDPw5ZU854vW"
      },
      "source": [
        "**3.4.** Gráfique el error entre la cantidad de billonarios predicha y la cantidad de billonarios real. El gráfico debe mostrar los paises ordenados de mayor a menor **error absoluto**.  Analice ¿Cuáles son los 5 países con mayor error en la predicción? ¿Cuáles países tienen un exceso de billonarios? ¿Cúales paises tienen menos billonarios de lo esperado? ¿Qué puede decir sobre Rusia?\n"
      ]
    },
    {
      "cell_type": "code",
      "metadata": {
        "colab": {
          "base_uri": "https://localhost:8080/",
          "height": 490
        },
        "id": "sVj5X4tU3tFn",
        "outputId": "14eb342b-ce1c-4d0a-c6e9-4bd0ea1eb6d4"
      },
      "source": [
        "NUM_PAISES = 40\n",
        "\n",
        "error_pais = pred_df.sort_values(\"error\", ascending=False)[\"error\"].head(NUM_PAISES)\n",
        "\n",
        "ax = error_pais.plot()\n",
        "ax.set_xticks(range(len(error_pais)));\n",
        "ax.set_xticklabels([item for item in error_pais.index.tolist()], rotation=90)\n",
        "plt.show()"
      ],
      "execution_count": null,
      "outputs": [
        {
          "output_type": "display_data",
          "data": {
            "image/png": "[encoded data removed]",
            "text/plain": [
              "<Figure size 1008x432 with 1 Axes>"
            ]
          },
          "metadata": {
            "tags": [],
            "needs_background": "light"
          }
        }
      ]
    },
    {
      "cell_type": "code",
      "metadata": {
        "colab": {
          "base_uri": "https://localhost:8080/",
          "height": 489
        },
        "id": "q7BfGkX4K9So",
        "outputId": "41c1e808-304b-4c8e-f2bf-7d2aed48a524"
      },
      "source": [
        "# Error como porcentaje en los paises con más error\n",
        "pred_dff = pred_df\n",
        "pred_df[\"error_porcentaje\"] = pred_df[\"error\"] * 100 / (pred_df[\"real\"] + 1e-8)\n",
        "\n",
        "error_porc_pais = pred_df.sort_values(\"error_porcentaje\", ascending=False)[\"error_porcentaje\"].head(NUM_PAISES)\n",
        "\n",
        "ax = error_porc_pais.plot()\n",
        "ax.set_xticks(range(len(error_porc_pais)));\n",
        "ax.set_xticklabels([item for item in error_porc_pais.index.tolist()], rotation=90)\n",
        "plt.show()"
      ],
      "execution_count": null,
      "outputs": [
        {
          "output_type": "display_data",
          "data": {
            "image/png": "[encoded data removed]",
            "text/plain": [
              "<Figure size 1008x432 with 1 Axes>"
            ]
          },
          "metadata": {
            "tags": [],
            "needs_background": "light"
          }
        }
      ]
    },
    {
      "cell_type": "code",
      "metadata": {
        "colab": {
          "base_uri": "https://localhost:8080/",
          "height": 450
        },
        "id": "nI6LaCBiOmEz",
        "outputId": "e297bd89-c779-4975-94c8-8a6355cbc647"
      },
      "source": [
        "pred_df"
      ],
      "execution_count": null,
      "outputs": [
        {
          "output_type": "execute_result",
          "data": {
            "text/html": [
              "<div>\n",
              "<style scoped>\n",
              "    .dataframe tbody tr th:only-of-type {\n",
              "        vertical-align: middle;\n",
              "    }\n",
              "\n",
              "    .dataframe tbody tr th {\n",
              "        vertical-align: top;\n",
              "    }\n",
              "\n",
              "    .dataframe thead th {\n",
              "        text-align: right;\n",
              "    }\n",
              "</style>\n",
              "<table border=\"1\" class=\"dataframe\">\n",
              "  <thead>\n",
              "    <tr style=\"text-align: right;\">\n",
              "      <th></th>\n",
              "      <th>real</th>\n",
              "      <th>prediccion</th>\n",
              "      <th>error</th>\n",
              "      <th>error_porcentaje</th>\n",
              "    </tr>\n",
              "    <tr>\n",
              "      <th>pais</th>\n",
              "      <th></th>\n",
              "      <th></th>\n",
              "      <th></th>\n",
              "      <th></th>\n",
              "    </tr>\n",
              "  </thead>\n",
              "  <tbody>\n",
              "    <tr>\n",
              "      <th>United States</th>\n",
              "      <td>469</td>\n",
              "      <td>357.276854</td>\n",
              "      <td>111.723146</td>\n",
              "      <td>2.382157e+01</td>\n",
              "    </tr>\n",
              "    <tr>\n",
              "      <th>Canada</th>\n",
              "      <td>25</td>\n",
              "      <td>17.871789</td>\n",
              "      <td>7.128211</td>\n",
              "      <td>2.851285e+01</td>\n",
              "    </tr>\n",
              "    <tr>\n",
              "      <th>Bahamas, The</th>\n",
              "      <td>0</td>\n",
              "      <td>0.041513</td>\n",
              "      <td>0.041513</td>\n",
              "      <td>4.151283e+08</td>\n",
              "    </tr>\n",
              "    <tr>\n",
              "      <th>Aruba</th>\n",
              "      <td>0</td>\n",
              "      <td>0.011526</td>\n",
              "      <td>0.011526</td>\n",
              "      <td>1.152561e+08</td>\n",
              "    </tr>\n",
              "    <tr>\n",
              "      <th>Bermuda</th>\n",
              "      <td>0</td>\n",
              "      <td>0.025913</td>\n",
              "      <td>0.025913</td>\n",
              "      <td>2.591286e+08</td>\n",
              "    </tr>\n",
              "    <tr>\n",
              "      <th>...</th>\n",
              "      <td>...</td>\n",
              "      <td>...</td>\n",
              "      <td>...</td>\n",
              "      <td>...</td>\n",
              "    </tr>\n",
              "    <tr>\n",
              "      <th>Micronesia, Fed. Sts.</th>\n",
              "      <td>0</td>\n",
              "      <td>0.000888</td>\n",
              "      <td>0.000888</td>\n",
              "      <td>8.875074e+06</td>\n",
              "    </tr>\n",
              "    <tr>\n",
              "      <th>Samoa</th>\n",
              "      <td>0</td>\n",
              "      <td>0.002596</td>\n",
              "      <td>0.002596</td>\n",
              "      <td>2.595946e+07</td>\n",
              "    </tr>\n",
              "    <tr>\n",
              "      <th>Hong Kong SAR, China</th>\n",
              "      <td>26</td>\n",
              "      <td>2.147184</td>\n",
              "      <td>23.852816</td>\n",
              "      <td>9.174160e+01</td>\n",
              "    </tr>\n",
              "    <tr>\n",
              "      <th>Puerto Rico</th>\n",
              "      <td>0</td>\n",
              "      <td>1.016237</td>\n",
              "      <td>1.016237</td>\n",
              "      <td>1.016237e+10</td>\n",
              "    </tr>\n",
              "    <tr>\n",
              "      <th>West Bank and Gaza</th>\n",
              "      <td>0</td>\n",
              "      <td>0.040473</td>\n",
              "      <td>0.040473</td>\n",
              "      <td>4.047298e+08</td>\n",
              "    </tr>\n",
              "  </tbody>\n",
              "</table>\n",
              "<p>197 rows × 4 columns</p>\n",
              "</div>"
            ],
            "text/plain": [
              "                       real  prediccion       error  error_porcentaje\n",
              "pais                                                                 \n",
              "United States           469  357.276854  111.723146      2.382157e+01\n",
              "Canada                   25   17.871789    7.128211      2.851285e+01\n",
              "Bahamas, The              0    0.041513    0.041513      4.151283e+08\n",
              "Aruba                     0    0.011526    0.011526      1.152561e+08\n",
              "Bermuda                   0    0.025913    0.025913      2.591286e+08\n",
              "...                     ...         ...         ...               ...\n",
              "Micronesia, Fed. Sts.     0    0.000888    0.000888      8.875074e+06\n",
              "Samoa                     0    0.002596    0.002596      2.595946e+07\n",
              "Hong Kong SAR, China     26    2.147184   23.852816      9.174160e+01\n",
              "Puerto Rico               0    1.016237    1.016237      1.016237e+10\n",
              "West Bank and Gaza        0    0.040473    0.040473      4.047298e+08\n",
              "\n",
              "[197 rows x 4 columns]"
            ]
          },
          "metadata": {
            "tags": []
          },
          "execution_count": 430
        }
      ]
    },
    {
      "cell_type": "code",
      "metadata": {
        "id": "4JbuDXFCOny6"
      },
      "source": [
        ""
      ],
      "execution_count": null,
      "outputs": []
    }
  ]
}